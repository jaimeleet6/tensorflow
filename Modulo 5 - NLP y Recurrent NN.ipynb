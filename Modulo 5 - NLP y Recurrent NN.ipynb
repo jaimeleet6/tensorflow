{
 "cells": [
  {
   "cell_type": "markdown",
   "metadata": {},
   "source": [
    "## Bag of Words\n",
    "\n",
    "Primero vamos a crear un modelo sencillo de Bag of Words."
   ]
  },
  {
   "cell_type": "code",
   "execution_count": 22,
   "metadata": {},
   "outputs": [
    {
     "data": {
      "text/plain": [
       "{'las': 2, 'palabras': 2, 'se': 2, 'repiten': 2}"
      ]
     },
     "execution_count": 22,
     "metadata": {},
     "output_type": "execute_result"
    }
   ],
   "source": [
    "def BagofWords(text):\n",
    "    bag = {}\n",
    "    vocab = []\n",
    "    \n",
    "    for word in text.split(\" \"):\n",
    "        word=word.lower()\n",
    "        bag[word]=1\n",
    "        if word in vocab:\n",
    "            bag[word] += 1\n",
    "            \n",
    "        vocab.append(word)\n",
    "    \n",
    "    return bag\n",
    "\n",
    "text=\"Las palabras se repiten se repiten las palabras\"\n",
    "BagofWords(text)"
   ]
  },
  {
   "cell_type": "code",
   "execution_count": null,
   "metadata": {},
   "outputs": [],
   "source": []
  }
 ],
 "metadata": {
  "kernelspec": {
   "display_name": "Python 3.7 (tensorflow)",
   "language": "python",
   "name": "tensorflow"
  },
  "language_info": {
   "codemirror_mode": {
    "name": "ipython",
    "version": 3
   },
   "file_extension": ".py",
   "mimetype": "text/x-python",
   "name": "python",
   "nbconvert_exporter": "python",
   "pygments_lexer": "ipython3",
   "version": "3.7.8"
  }
 },
 "nbformat": 4,
 "nbformat_minor": 4
}
