{
 "cells": [
  {
   "cell_type": "markdown",
   "metadata": {},
   "source": [
    "### Regresión Lineal"
   ]
  },
  {
   "cell_type": "code",
   "execution_count": 1,
   "metadata": {},
   "outputs": [],
   "source": [
    "import matplotlib.pyplot as plt\n",
    "import numpy as np"
   ]
  },
  {
   "cell_type": "code",
   "execution_count": 2,
   "metadata": {},
   "outputs": [],
   "source": [
    "x = np.linspace(0,10,10)\n",
    "y = np.linspace(0,5,10)"
   ]
  },
  {
   "cell_type": "code",
   "execution_count": 3,
   "metadata": {},
   "outputs": [
    {
     "data": {
      "text/plain": [
       "[<matplotlib.lines.Line2D at 0x2680011d608>]"
      ]
     },
     "execution_count": 3,
     "metadata": {},
     "output_type": "execute_result"
    },
    {
     "data": {
      "image/png": "[encoded data removed]",
      "text/plain": [
       "<Figure size 432x288 with 1 Axes>"
      ]
     },
     "metadata": {
      "needs_background": "light"
     },
     "output_type": "display_data"
    }
   ],
   "source": [
    "%matplotlib inline\n",
    "plt.plot(x,y,'ro')"
   ]
  },
  {
   "cell_type": "code",
   "execution_count": 4,
   "metadata": {},
   "outputs": [
    {
     "data": {
      "image/png": "[encoded data removed]",
      "text/plain": [
       "<Figure size 432x288 with 1 Axes>"
      ]
     },
     "metadata": {
      "needs_background": "light"
     },
     "output_type": "display_data"
    }
   ],
   "source": [
    "plt.plot(x,y,'ro')\n",
    "plt.plot(x, np.poly1d(np.polyfit(x,y,1))(x))\n",
    "plt.show()"
   ]
  },
  {
   "cell_type": "code",
   "execution_count": 5,
   "metadata": {},
   "outputs": [
    {
     "data": {
      "text/plain": [
       "0.5"
      ]
     },
     "execution_count": 5,
     "metadata": {},
     "output_type": "execute_result"
    }
   ],
   "source": [
    "(y[1]-y[0])/(x[1]-x[0]) # pendiente"
   ]
  },
  {
   "cell_type": "code",
   "execution_count": 6,
   "metadata": {},
   "outputs": [],
   "source": [
    "from __future__ import absolute_import, division, print_function, unicode_literals\n",
    "\n",
    "import numpy as np\n",
    "import pandas as pd\n",
    "import matplotlib.pyplot as plt\n",
    "from IPython.display import clear_output\n",
    "from six.moves import urllib\n",
    "\n",
    "import tensorflow.compat.v2.feature_column as fc\n",
    "\n",
    "import tensorflow as tf"
   ]
  },
  {
   "cell_type": "markdown",
   "metadata": {},
   "source": [
    "#### Dataset"
   ]
  },
  {
   "cell_type": "code",
   "execution_count": 7,
   "metadata": {
    "scrolled": true
   },
   "outputs": [],
   "source": [
    "dftrain = pd.read_csv(\"https://storage.googleapis.com/tf-datasets/titanic/train.csv\")\n",
    "dftest = pd.read_csv(\"https://storage.googleapis.com/tf-datasets/titanic/eval.csv\")"
   ]
  },
  {
   "cell_type": "code",
   "execution_count": 8,
   "metadata": {},
   "outputs": [
    {
     "data": {
      "text/html": [
       "<div>\n",
       "<style scoped>\n",
       "    .dataframe tbody tr th:only-of-type {\n",
       "        vertical-align: middle;\n",
       "    }\n",
       "\n",
       "    .dataframe tbody tr th {\n",
       "        vertical-align: top;\n",
       "    }\n",
       "\n",
       "    .dataframe thead th {\n",
       "        text-align: right;\n",
       "    }\n",
       "</style>\n",
       "<table border=\"1\" class=\"dataframe\">\n",
       "  <thead>\n",
       "    <tr style=\"text-align: right;\">\n",
       "      <th></th>\n",
       "      <th>survived</th>\n",
       "      <th>sex</th>\n",
       "      <th>age</th>\n",
       "      <th>n_siblings_spouses</th>\n",
       "      <th>parch</th>\n",
       "      <th>fare</th>\n",
       "      <th>class</th>\n",
       "      <th>deck</th>\n",
       "      <th>embark_town</th>\n",
       "      <th>alone</th>\n",
       "    </tr>\n",
       "  </thead>\n",
       "  <tbody>\n",
       "    <tr>\n",
       "      <th>0</th>\n",
       "      <td>0</td>\n",
       "      <td>male</td>\n",
       "      <td>22.0</td>\n",
       "      <td>1</td>\n",
       "      <td>0</td>\n",
       "      <td>7.2500</td>\n",
       "      <td>Third</td>\n",
       "      <td>unknown</td>\n",
       "      <td>Southampton</td>\n",
       "      <td>n</td>\n",
       "    </tr>\n",
       "    <tr>\n",
       "      <th>1</th>\n",
       "      <td>1</td>\n",
       "      <td>female</td>\n",
       "      <td>38.0</td>\n",
       "      <td>1</td>\n",
       "      <td>0</td>\n",
       "      <td>71.2833</td>\n",
       "      <td>First</td>\n",
       "      <td>C</td>\n",
       "      <td>Cherbourg</td>\n",
       "      <td>n</td>\n",
       "    </tr>\n",
       "    <tr>\n",
       "      <th>2</th>\n",
       "      <td>1</td>\n",
       "      <td>female</td>\n",
       "      <td>26.0</td>\n",
       "      <td>0</td>\n",
       "      <td>0</td>\n",
       "      <td>7.9250</td>\n",
       "      <td>Third</td>\n",
       "      <td>unknown</td>\n",
       "      <td>Southampton</td>\n",
       "      <td>y</td>\n",
       "    </tr>\n",
       "    <tr>\n",
       "      <th>3</th>\n",
       "      <td>1</td>\n",
       "      <td>female</td>\n",
       "      <td>35.0</td>\n",
       "      <td>1</td>\n",
       "      <td>0</td>\n",
       "      <td>53.1000</td>\n",
       "      <td>First</td>\n",
       "      <td>C</td>\n",
       "      <td>Southampton</td>\n",
       "      <td>n</td>\n",
       "    </tr>\n",
       "    <tr>\n",
       "      <th>4</th>\n",
       "      <td>0</td>\n",
       "      <td>male</td>\n",
       "      <td>28.0</td>\n",
       "      <td>0</td>\n",
       "      <td>0</td>\n",
       "      <td>8.4583</td>\n",
       "      <td>Third</td>\n",
       "      <td>unknown</td>\n",
       "      <td>Queenstown</td>\n",
       "      <td>y</td>\n",
       "    </tr>\n",
       "  </tbody>\n",
       "</table>\n",
       "</div>"
      ],
      "text/plain": [
       "   survived     sex   age  n_siblings_spouses  parch     fare  class     deck  \\\n",
       "0         0    male  22.0                   1      0   7.2500  Third  unknown   \n",
       "1         1  female  38.0                   1      0  71.2833  First        C   \n",
       "2         1  female  26.0                   0      0   7.9250  Third  unknown   \n",
       "3         1  female  35.0                   1      0  53.1000  First        C   \n",
       "4         0    male  28.0                   0      0   8.4583  Third  unknown   \n",
       "\n",
       "   embark_town alone  \n",
       "0  Southampton     n  \n",
       "1    Cherbourg     n  \n",
       "2  Southampton     y  \n",
       "3  Southampton     n  \n",
       "4   Queenstown     y  "
      ]
     },
     "execution_count": 8,
     "metadata": {},
     "output_type": "execute_result"
    }
   ],
   "source": [
    "dftrain.head()"
   ]
  },
  {
   "cell_type": "code",
   "execution_count": 9,
   "metadata": {},
   "outputs": [
    {
     "data": {
      "text/html": [
       "<div>\n",
       "<style scoped>\n",
       "    .dataframe tbody tr th:only-of-type {\n",
       "        vertical-align: middle;\n",
       "    }\n",
       "\n",
       "    .dataframe tbody tr th {\n",
       "        vertical-align: top;\n",
       "    }\n",
       "\n",
       "    .dataframe thead th {\n",
       "        text-align: right;\n",
       "    }\n",
       "</style>\n",
       "<table border=\"1\" class=\"dataframe\">\n",
       "  <thead>\n",
       "    <tr style=\"text-align: right;\">\n",
       "      <th></th>\n",
       "      <th>age</th>\n",
       "      <th>n_siblings_spouses</th>\n",
       "      <th>parch</th>\n",
       "      <th>fare</th>\n",
       "    </tr>\n",
       "    <tr>\n",
       "      <th>survived</th>\n",
       "      <th></th>\n",
       "      <th></th>\n",
       "      <th></th>\n",
       "      <th></th>\n",
       "    </tr>\n",
       "  </thead>\n",
       "  <tbody>\n",
       "    <tr>\n",
       "      <th>0</th>\n",
       "      <td>29.960938</td>\n",
       "      <td>0.591146</td>\n",
       "      <td>0.325521</td>\n",
       "      <td>23.428448</td>\n",
       "    </tr>\n",
       "    <tr>\n",
       "      <th>1</th>\n",
       "      <td>29.110412</td>\n",
       "      <td>0.473251</td>\n",
       "      <td>0.465021</td>\n",
       "      <td>51.700086</td>\n",
       "    </tr>\n",
       "  </tbody>\n",
       "</table>\n",
       "</div>"
      ],
      "text/plain": [
       "                age  n_siblings_spouses     parch       fare\n",
       "survived                                                    \n",
       "0         29.960938            0.591146  0.325521  23.428448\n",
       "1         29.110412            0.473251  0.465021  51.700086"
      ]
     },
     "execution_count": 9,
     "metadata": {},
     "output_type": "execute_result"
    }
   ],
   "source": [
    "dftrain.groupby(\"survived\").mean()"
   ]
  },
  {
   "cell_type": "code",
   "execution_count": 10,
   "metadata": {},
   "outputs": [
    {
     "data": {
      "text/html": [
       "<div>\n",
       "<style scoped>\n",
       "    .dataframe tbody tr th:only-of-type {\n",
       "        vertical-align: middle;\n",
       "    }\n",
       "\n",
       "    .dataframe tbody tr th {\n",
       "        vertical-align: top;\n",
       "    }\n",
       "\n",
       "    .dataframe thead th {\n",
       "        text-align: right;\n",
       "    }\n",
       "</style>\n",
       "<table border=\"1\" class=\"dataframe\">\n",
       "  <thead>\n",
       "    <tr style=\"text-align: right;\">\n",
       "      <th></th>\n",
       "      <th>survived</th>\n",
       "      <th>age</th>\n",
       "      <th>n_siblings_spouses</th>\n",
       "      <th>parch</th>\n",
       "      <th>fare</th>\n",
       "    </tr>\n",
       "    <tr>\n",
       "      <th>sex</th>\n",
       "      <th></th>\n",
       "      <th></th>\n",
       "      <th></th>\n",
       "      <th></th>\n",
       "      <th></th>\n",
       "    </tr>\n",
       "  </thead>\n",
       "  <tbody>\n",
       "    <tr>\n",
       "      <th>female</th>\n",
       "      <td>0.778802</td>\n",
       "      <td>28.652074</td>\n",
       "      <td>0.654378</td>\n",
       "      <td>0.62212</td>\n",
       "      <td>47.118741</td>\n",
       "    </tr>\n",
       "    <tr>\n",
       "      <th>male</th>\n",
       "      <td>0.180488</td>\n",
       "      <td>30.149585</td>\n",
       "      <td>0.487805</td>\n",
       "      <td>0.25122</td>\n",
       "      <td>27.646044</td>\n",
       "    </tr>\n",
       "  </tbody>\n",
       "</table>\n",
       "</div>"
      ],
      "text/plain": [
       "        survived        age  n_siblings_spouses    parch       fare\n",
       "sex                                                                \n",
       "female  0.778802  28.652074            0.654378  0.62212  47.118741\n",
       "male    0.180488  30.149585            0.487805  0.25122  27.646044"
      ]
     },
     "execution_count": 10,
     "metadata": {},
     "output_type": "execute_result"
    }
   ],
   "source": [
    "dftrain.groupby(\"sex\").mean()"
   ]
  },
  {
   "cell_type": "code",
   "execution_count": 11,
   "metadata": {},
   "outputs": [],
   "source": [
    "y_train = dftrain.pop(\"survived\")\n",
    "y_eval = dftest.pop(\"survived\")"
   ]
  },
  {
   "cell_type": "code",
   "execution_count": 12,
   "metadata": {},
   "outputs": [
    {
     "data": {
      "text/plain": [
       "((627, 9), (264, 9))"
      ]
     },
     "execution_count": 12,
     "metadata": {},
     "output_type": "execute_result"
    }
   ],
   "source": [
    "dftrain.shape, dftest.shape"
   ]
  },
  {
   "cell_type": "code",
   "execution_count": 13,
   "metadata": {},
   "outputs": [
    {
     "data": {
      "text/plain": [
       "0    0\n",
       "1    1\n",
       "2    1\n",
       "3    1\n",
       "4    0\n",
       "Name: survived, dtype: int64"
      ]
     },
     "execution_count": 13,
     "metadata": {},
     "output_type": "execute_result"
    }
   ],
   "source": [
    "y_train.head()"
   ]
  },
  {
   "cell_type": "code",
   "execution_count": 14,
   "metadata": {},
   "outputs": [
    {
     "data": {
      "text/plain": [
       "sex                          male\n",
       "age                            22\n",
       "n_siblings_spouses              1\n",
       "parch                           0\n",
       "fare                         7.25\n",
       "class                       Third\n",
       "deck                      unknown\n",
       "embark_town           Southampton\n",
       "alone                           n\n",
       "Name: 0, dtype: object"
      ]
     },
     "execution_count": 14,
     "metadata": {},
     "output_type": "execute_result"
    }
   ],
   "source": [
    "dftrain.loc[0]"
   ]
  },
  {
   "cell_type": "code",
   "execution_count": 15,
   "metadata": {},
   "outputs": [
    {
     "name": "stdout",
     "output_type": "stream",
     "text": [
      "[VocabularyListCategoricalColumn(key='sex', vocabulary_list=('male', 'female'), dtype=tf.string, default_value=-1, num_oov_buckets=0), VocabularyListCategoricalColumn(key='n_siblings_spouses', vocabulary_list=(1, 0, 3, 4, 2, 5, 8), dtype=tf.int64, default_value=-1, num_oov_buckets=0), VocabularyListCategoricalColumn(key='parch', vocabulary_list=(0, 1, 2, 5, 3, 4), dtype=tf.int64, default_value=-1, num_oov_buckets=0), VocabularyListCategoricalColumn(key='class', vocabulary_list=('Third', 'First', 'Second'), dtype=tf.string, default_value=-1, num_oov_buckets=0), VocabularyListCategoricalColumn(key='deck', vocabulary_list=('unknown', 'C', 'G', 'A', 'B', 'D', 'F', 'E'), dtype=tf.string, default_value=-1, num_oov_buckets=0), VocabularyListCategoricalColumn(key='embark_town', vocabulary_list=('Southampton', 'Cherbourg', 'Queenstown', 'unknown'), dtype=tf.string, default_value=-1, num_oov_buckets=0), VocabularyListCategoricalColumn(key='alone', vocabulary_list=('n', 'y'), dtype=tf.string, default_value=-1, num_oov_buckets=0), NumericColumn(key='age', shape=(1,), default_value=None, dtype=tf.float32, normalizer_fn=None), NumericColumn(key='fare', shape=(1,), default_value=None, dtype=tf.float32, normalizer_fn=None)]\n"
     ]
    }
   ],
   "source": [
    "dftrain = pd.read_csv(\"https://storage.googleapis.com/tf-datasets/titanic/train.csv\")\n",
    "dftest = pd.read_csv(\"https://storage.googleapis.com/tf-datasets/titanic/eval.csv\")\n",
    "\n",
    "y_train = dftrain.pop(\"survived\")\n",
    "y_eval = dftest.pop(\"survived\")\n",
    "\n",
    "CATEGORICAL_COLUMNS = [\"sex\", \"n_siblings_spouses\", \"parch\", \"class\", \"deck\",\n",
    "                       \"embark_town\", \"alone\"]\n",
    "NUMERICAL_COLUMNS = [\"age\", \"fare\"]\n",
    "\n",
    "feature_columns = []\n",
    "for feature_name in CATEGORICAL_COLUMNS:\n",
    "    vocabulary = dftrain[feature_name].unique() #list of all unique values from given feature column\n",
    "    feature_columns.append(tf.feature_column.categorical_column_with_vocabulary_list(feature_name, vocabulary))\n",
    "\n",
    "for feature_name in NUMERICAL_COLUMNS:\n",
    "    feature_columns.append(tf.feature_column.numeric_column(feature_name, dtype=tf.float32))\n",
    "\n",
    "print(feature_columns)"
   ]
  },
  {
   "cell_type": "markdown",
   "metadata": {},
   "source": [
    "#### Entrenar el modelo\n",
    "\n",
    "Se va a pasar la información al modelo en batches, esto es util para cuando haya teras de información, para que vaya más rápido. En cada batch habrá unos epochs, que serán reorganizaciones distintas de los mismos datos para que el modelo aprenda mejor, hay que tener cuidado con el overfitting"
   ]
  },
  {
   "cell_type": "code",
   "execution_count": 16,
   "metadata": {},
   "outputs": [],
   "source": [
    "# Hay que pasar los datos de obejto pandas.DataFrame a tensorflow.Dataset\n",
    "def make_input_fn(data_df, label_df, num_epochs=10, shuffle=True, batch_size=32):\n",
    "    def input_function(): #función interna, será la que se retorne\n",
    "        ds = tf.data.Dataset.from_tensor_slices((dict(data_df), label_df))\n",
    "        if shuffle:\n",
    "            ds = ds.shuffle(1000)\n",
    "        ds = ds.batch(batch_size).repeat(num_epochs)\n",
    "        return ds\n",
    "    return input_function\n",
    "\n",
    "train_input_fn = make_input_fn(dftrain, y_train)\n",
    "eval_input_fn = make_input_fn(dftest, y_eval, num_epochs=1, shuffle=False)"
   ]
  },
  {
   "cell_type": "code",
   "execution_count": 18,
   "metadata": {},
   "outputs": [
    {
     "name": "stdout",
     "output_type": "stream",
     "text": [
      "INFO:tensorflow:Using default config.\n",
      "WARNING:tensorflow:Using temporary folder as model directory: C:\\Users\\jaime\\AppData\\Local\\Temp\\tmpj5239rfy\n",
      "INFO:tensorflow:Using config: {'_model_dir': 'C:\\\\Users\\\\jaime\\\\AppData\\\\Local\\\\Temp\\\\tmpj5239rfy', '_tf_random_seed': None, '_save_summary_steps': 100, '_save_checkpoints_steps': None, '_save_checkpoints_secs': 600, '_session_config': allow_soft_placement: true\n",
      "graph_options {\n",
      "  rewrite_options {\n",
      "    meta_optimizer_iterations: ONE\n",
      "  }\n",
      "}\n",
      ", '_keep_checkpoint_max': 5, '_keep_checkpoint_every_n_hours': 10000, '_log_step_count_steps': 100, '_train_distribute': None, '_device_fn': None, '_protocol': None, '_eval_distribute': None, '_experimental_distribute': None, '_experimental_max_worker_delay_secs': None, '_session_creation_timeout_secs': 7200, '_service': None, '_cluster_spec': ClusterSpec({}), '_task_type': 'worker', '_task_id': 0, '_global_id_in_cluster': 0, '_master': '', '_evaluation_master': '', '_is_chief': True, '_num_ps_replicas': 0, '_num_worker_replicas': 1}\n"
     ]
    }
   ],
   "source": [
    "linear_est = tf.estimator.LinearClassifier(feature_columns=feature_columns)"
   ]
  },
  {
   "cell_type": "code",
   "execution_count": 19,
   "metadata": {},
   "outputs": [
    {
     "name": "stdout",
     "output_type": "stream",
     "text": [
      "0.75\n"
     ]
    }
   ],
   "source": [
    "linear_est.train(train_input_fn) # train\n",
    "result = linear_est.evaluate(eval_input_fn) # get model metrics/stats by testing on testing data\n",
    "\n",
    "clear_output()\n",
    "print(result[\"accuracy\"])"
   ]
  },
  {
   "cell_type": "code",
   "execution_count": 20,
   "metadata": {},
   "outputs": [
    {
     "name": "stdout",
     "output_type": "stream",
     "text": [
      "{'accuracy': 0.75, 'accuracy_baseline': 0.625, 'auc': 0.8228344, 'auc_precision_recall': 0.7537705, 'average_loss': 0.5247024, 'label/mean': 0.375, 'loss': 0.52348894, 'precision': 0.63414633, 'prediction/mean': 0.45503893, 'recall': 0.7878788, 'global_step': 200}\n"
     ]
    }
   ],
   "source": [
    "print(result)"
   ]
  },
  {
   "cell_type": "code",
   "execution_count": 28,
   "metadata": {},
   "outputs": [
    {
     "name": "stdout",
     "output_type": "stream",
     "text": [
      "INFO:tensorflow:Calling model_fn.\n",
      "WARNING:tensorflow:Layer linear/linear_model is casting an input tensor from dtype float64 to the layer's dtype of float32, which is new behavior in TensorFlow 2.  The layer has dtype float32 because it's dtype defaults to floatx.\n",
      "\n",
      "If you intended to run this layer in float32, you can safely ignore this warning. If in doubt, this warning is likely only an issue if you are porting a TensorFlow 1.X model to TensorFlow 2.\n",
      "\n",
      "To change all layers to have dtype float64 by default, call `tf.keras.backend.set_floatx('float64')`. To change just this layer, pass dtype='float64' to the layer constructor. If you are the author of this layer, you can disable autocasting by passing autocast=False to the base Layer constructor.\n",
      "\n",
      "INFO:tensorflow:Done calling model_fn.\n",
      "INFO:tensorflow:Graph was finalized.\n",
      "INFO:tensorflow:Restoring parameters from C:\\Users\\jaime\\AppData\\Local\\Temp\\tmpj5239rfy\\model.ckpt-200\n",
      "INFO:tensorflow:Running local_init_op.\n",
      "INFO:tensorflow:Done running local_init_op.\n",
      "[0.67058283 0.32941717]\n",
      "sex                          male\n",
      "age                            34\n",
      "n_siblings_spouses              0\n",
      "parch                           0\n",
      "fare                           13\n",
      "class                      Second\n",
      "deck                            D\n",
      "embark_town           Southampton\n",
      "alone                           y\n",
      "Name: 4, dtype: object\n",
      "1\n"
     ]
    }
   ],
   "source": [
    "result = list(linear_est.predict(eval_input_fn))\n",
    "print(result[4][\"probabilities\"])\n",
    "print(dftest.loc[4])\n",
    "print(y_eval.loc[4])"
   ]
  },
  {
   "cell_type": "markdown",
   "metadata": {},
   "source": [
    "### Dataset de las flores con DeepNeuralNetwork"
   ]
  },
  {
   "cell_type": "code",
   "execution_count": 29,
   "metadata": {},
   "outputs": [],
   "source": [
    "from __future__ import absolute_import, division, print_function, unicode_literals\n",
    "\n",
    "import tensorflow as tf\n",
    "import pandas as pd"
   ]
  },
  {
   "cell_type": "code",
   "execution_count": 33,
   "metadata": {},
   "outputs": [],
   "source": [
    "CSV_COLUMNS_NAMES = [\"SepalLength\", \"SepalWidth\", \"PetalLength\", \"PetalWidth\", \"Species\"]\n",
    "SPECIES = [\"Setosa\", \"Versicolor\", \"Virginica\"]"
   ]
  },
  {
   "cell_type": "code",
   "execution_count": 34,
   "metadata": {},
   "outputs": [],
   "source": [
    "train_path = tf.keras.utils.get_file(\"iris_training.csv\", \"https://storage.googleapis.com/download.tensorflow.org/data/iris_training.csv\")\n",
    "test_path = tf.keras.utils.get_file(\"iris_test.csv\", \"https://storage.googleapis.com/download.tensorflow.org/data/iris_test.csv\")\n",
    "\n",
    "train = pd.read_csv(train_path, names=CSV_COLUMNS_NAMES, header=0)\n",
    "test = pd.read_csv(test_path, names=CSV_COLUMNS_NAMES, header=0)"
   ]
  },
  {
   "cell_type": "code",
   "execution_count": 35,
   "metadata": {},
   "outputs": [
    {
     "data": {
      "text/html": [
       "<div>\n",
       "<style scoped>\n",
       "    .dataframe tbody tr th:only-of-type {\n",
       "        vertical-align: middle;\n",
       "    }\n",
       "\n",
       "    .dataframe tbody tr th {\n",
       "        vertical-align: top;\n",
       "    }\n",
       "\n",
       "    .dataframe thead th {\n",
       "        text-align: right;\n",
       "    }\n",
       "</style>\n",
       "<table border=\"1\" class=\"dataframe\">\n",
       "  <thead>\n",
       "    <tr style=\"text-align: right;\">\n",
       "      <th></th>\n",
       "      <th>SepalLength</th>\n",
       "      <th>SepalWidth</th>\n",
       "      <th>PetalLength</th>\n",
       "      <th>PetalWidth</th>\n",
       "      <th>Species</th>\n",
       "    </tr>\n",
       "  </thead>\n",
       "  <tbody>\n",
       "    <tr>\n",
       "      <th>0</th>\n",
       "      <td>6.4</td>\n",
       "      <td>2.8</td>\n",
       "      <td>5.6</td>\n",
       "      <td>2.2</td>\n",
       "      <td>2</td>\n",
       "    </tr>\n",
       "    <tr>\n",
       "      <th>1</th>\n",
       "      <td>5.0</td>\n",
       "      <td>2.3</td>\n",
       "      <td>3.3</td>\n",
       "      <td>1.0</td>\n",
       "      <td>1</td>\n",
       "    </tr>\n",
       "    <tr>\n",
       "      <th>2</th>\n",
       "      <td>4.9</td>\n",
       "      <td>2.5</td>\n",
       "      <td>4.5</td>\n",
       "      <td>1.7</td>\n",
       "      <td>2</td>\n",
       "    </tr>\n",
       "    <tr>\n",
       "      <th>3</th>\n",
       "      <td>4.9</td>\n",
       "      <td>3.1</td>\n",
       "      <td>1.5</td>\n",
       "      <td>0.1</td>\n",
       "      <td>0</td>\n",
       "    </tr>\n",
       "    <tr>\n",
       "      <th>4</th>\n",
       "      <td>5.7</td>\n",
       "      <td>3.8</td>\n",
       "      <td>1.7</td>\n",
       "      <td>0.3</td>\n",
       "      <td>0</td>\n",
       "    </tr>\n",
       "  </tbody>\n",
       "</table>\n",
       "</div>"
      ],
      "text/plain": [
       "   SepalLength  SepalWidth  PetalLength  PetalWidth  Species\n",
       "0          6.4         2.8          5.6         2.2        2\n",
       "1          5.0         2.3          3.3         1.0        1\n",
       "2          4.9         2.5          4.5         1.7        2\n",
       "3          4.9         3.1          1.5         0.1        0\n",
       "4          5.7         3.8          1.7         0.3        0"
      ]
     },
     "execution_count": 35,
     "metadata": {},
     "output_type": "execute_result"
    }
   ],
   "source": [
    "train.head()"
   ]
  },
  {
   "cell_type": "code",
   "execution_count": 37,
   "metadata": {},
   "outputs": [],
   "source": [
    "train_y = train.pop(\"Species\")\n",
    "test_y = test.pop(\"Species\")"
   ]
  },
  {
   "cell_type": "code",
   "execution_count": 39,
   "metadata": {},
   "outputs": [
    {
     "data": {
      "text/plain": [
       "0    2\n",
       "1    1\n",
       "2    2\n",
       "3    0\n",
       "4    0\n",
       "Name: Species, dtype: int64"
      ]
     },
     "execution_count": 39,
     "metadata": {},
     "output_type": "execute_result"
    }
   ],
   "source": [
    "train_y.head()"
   ]
  },
  {
   "cell_type": "code",
   "execution_count": 40,
   "metadata": {},
   "outputs": [
    {
     "data": {
      "text/plain": [
       "((120, 4), (30, 4))"
      ]
     },
     "execution_count": 40,
     "metadata": {},
     "output_type": "execute_result"
    }
   ],
   "source": [
    "train.shape, test.shape"
   ]
  },
  {
   "cell_type": "code",
   "execution_count": 41,
   "metadata": {},
   "outputs": [],
   "source": [
    "def input_fn(features, labels, training=True, batch_size=256):\n",
    "    # Convert the inputs to a dataset\n",
    "    dataset = tf.data.Dataset.from_tensor_slices((dict(features), labels))\n",
    "    \n",
    "    # Shuffle and repeat if you are in training mode\n",
    "    if training:\n",
    "        dataset = dataset.shuffle(1000).repeat()\n",
    "    \n",
    "    return dataset.batch(batch_size)"
   ]
  },
  {
   "cell_type": "code",
   "execution_count": 42,
   "metadata": {},
   "outputs": [
    {
     "name": "stdout",
     "output_type": "stream",
     "text": [
      "[NumericColumn(key='SepalLength', shape=(1,), default_value=None, dtype=tf.float32, normalizer_fn=None), NumericColumn(key='SepalWidth', shape=(1,), default_value=None, dtype=tf.float32, normalizer_fn=None), NumericColumn(key='PetalLength', shape=(1,), default_value=None, dtype=tf.float32, normalizer_fn=None), NumericColumn(key='PetalWidth', shape=(1,), default_value=None, dtype=tf.float32, normalizer_fn=None)]\n"
     ]
    }
   ],
   "source": [
    "my_feature_columns = []\n",
    "for key in train.keys():\n",
    "    my_feature_columns.append(tf.feature_column.numeric_column(key=key))\n",
    "print(my_feature_columns)"
   ]
  },
  {
   "cell_type": "code",
   "execution_count": 44,
   "metadata": {},
   "outputs": [
    {
     "name": "stdout",
     "output_type": "stream",
     "text": [
      "INFO:tensorflow:Using default config.\n",
      "WARNING:tensorflow:Using temporary folder as model directory: C:\\Users\\jaime\\AppData\\Local\\Temp\\tmpqgv1z_9x\n",
      "INFO:tensorflow:Using config: {'_model_dir': 'C:\\\\Users\\\\jaime\\\\AppData\\\\Local\\\\Temp\\\\tmpqgv1z_9x', '_tf_random_seed': None, '_save_summary_steps': 100, '_save_checkpoints_steps': None, '_save_checkpoints_secs': 600, '_session_config': allow_soft_placement: true\n",
      "graph_options {\n",
      "  rewrite_options {\n",
      "    meta_optimizer_iterations: ONE\n",
      "  }\n",
      "}\n",
      ", '_keep_checkpoint_max': 5, '_keep_checkpoint_every_n_hours': 10000, '_log_step_count_steps': 100, '_train_distribute': None, '_device_fn': None, '_protocol': None, '_eval_distribute': None, '_experimental_distribute': None, '_experimental_max_worker_delay_secs': None, '_session_creation_timeout_secs': 7200, '_service': None, '_cluster_spec': ClusterSpec({}), '_task_type': 'worker', '_task_id': 0, '_global_id_in_cluster': 0, '_master': '', '_evaluation_master': '', '_is_chief': True, '_num_ps_replicas': 0, '_num_worker_replicas': 1}\n"
     ]
    }
   ],
   "source": [
    "classifier = tf.estimator.DNNClassifier(\n",
    "    feature_columns=my_feature_columns,\n",
    "    # Two idden layers of 30 and 10 nodes respectively.\n",
    "    hidden_units=[30,10],\n",
    "    # the model must choose between 3 classes.\n",
    "    n_classes=3)"
   ]
  },
  {
   "cell_type": "markdown",
   "metadata": {},
   "source": [
    "#### Training"
   ]
  },
  {
   "cell_type": "code",
   "execution_count": 45,
   "metadata": {
    "scrolled": true
   },
   "outputs": [
    {
     "name": "stdout",
     "output_type": "stream",
     "text": [
      "INFO:tensorflow:Calling model_fn.\n",
      "WARNING:tensorflow:Layer dnn is casting an input tensor from dtype float64 to the layer's dtype of float32, which is new behavior in TensorFlow 2.  The layer has dtype float32 because it's dtype defaults to floatx.\n",
      "\n",
      "If you intended to run this layer in float32, you can safely ignore this warning. If in doubt, this warning is likely only an issue if you are porting a TensorFlow 1.X model to TensorFlow 2.\n",
      "\n",
      "To change all layers to have dtype float64 by default, call `tf.keras.backend.set_floatx('float64')`. To change just this layer, pass dtype='float64' to the layer constructor. If you are the author of this layer, you can disable autocasting by passing autocast=False to the base Layer constructor.\n",
      "\n",
      "INFO:tensorflow:Done calling model_fn.\n",
      "INFO:tensorflow:Create CheckpointSaverHook.\n",
      "INFO:tensorflow:Graph was finalized.\n",
      "INFO:tensorflow:Running local_init_op.\n",
      "INFO:tensorflow:Done running local_init_op.\n",
      "INFO:tensorflow:Saving checkpoints for 0 into C:\\Users\\jaime\\AppData\\Local\\Temp\\tmpqgv1z_9x\\model.ckpt.\n",
      "INFO:tensorflow:loss = 1.4610412, step = 0\n",
      "INFO:tensorflow:global_step/sec: 249.918\n",
      "INFO:tensorflow:loss = 0.8205689, step = 100 (0.400 sec)\n",
      "INFO:tensorflow:global_step/sec: 294.472\n",
      "INFO:tensorflow:loss = 0.75645775, step = 200 (0.350 sec)\n",
      "INFO:tensorflow:global_step/sec: 283.393\n",
      "INFO:tensorflow:loss = 0.7127787, step = 300 (0.343 sec)\n",
      "INFO:tensorflow:global_step/sec: 296.483\n",
      "INFO:tensorflow:loss = 0.6648272, step = 400 (0.337 sec)\n",
      "INFO:tensorflow:global_step/sec: 285.605\n",
      "INFO:tensorflow:loss = 0.62379533, step = 500 (0.360 sec)\n",
      "INFO:tensorflow:global_step/sec: 277.842\n",
      "INFO:tensorflow:loss = 0.61498886, step = 600 (0.360 sec)\n",
      "INFO:tensorflow:global_step/sec: 222.252\n",
      "INFO:tensorflow:loss = 0.59498346, step = 700 (0.450 sec)\n",
      "INFO:tensorflow:global_step/sec: 247.164\n",
      "INFO:tensorflow:loss = 0.56286335, step = 800 (0.400 sec)\n",
      "INFO:tensorflow:global_step/sec: 259.556\n",
      "INFO:tensorflow:loss = 0.55668914, step = 900 (0.380 sec)\n",
      "INFO:tensorflow:global_step/sec: 222.209\n",
      "INFO:tensorflow:loss = 0.5445632, step = 1000 (0.460 sec)\n",
      "INFO:tensorflow:global_step/sec: 285.32\n",
      "INFO:tensorflow:loss = 0.53101295, step = 1100 (0.350 sec)\n",
      "INFO:tensorflow:global_step/sec: 294.168\n",
      "INFO:tensorflow:loss = 0.5163765, step = 1200 (0.340 sec)\n",
      "INFO:tensorflow:global_step/sec: 285.952\n",
      "INFO:tensorflow:loss = 0.50671476, step = 1300 (0.340 sec)\n",
      "INFO:tensorflow:global_step/sec: 293.935\n",
      "INFO:tensorflow:loss = 0.49879336, step = 1400 (0.340 sec)\n",
      "INFO:tensorflow:global_step/sec: 256.578\n",
      "INFO:tensorflow:loss = 0.48453578, step = 1500 (0.405 sec)\n",
      "INFO:tensorflow:global_step/sec: 249.897\n",
      "INFO:tensorflow:loss = 0.4837395, step = 1600 (0.395 sec)\n",
      "INFO:tensorflow:global_step/sec: 238.141\n",
      "INFO:tensorflow:loss = 0.46320668, step = 1700 (0.410 sec)\n",
      "INFO:tensorflow:global_step/sec: 285.658\n",
      "INFO:tensorflow:loss = 0.45715582, step = 1800 (0.360 sec)\n",
      "INFO:tensorflow:global_step/sec: 285.825\n",
      "INFO:tensorflow:loss = 0.46790785, step = 1900 (0.350 sec)\n",
      "INFO:tensorflow:global_step/sec: 294.071\n",
      "INFO:tensorflow:loss = 0.46142754, step = 2000 (0.340 sec)\n",
      "INFO:tensorflow:global_step/sec: 285.786\n",
      "INFO:tensorflow:loss = 0.44325653, step = 2100 (0.350 sec)\n",
      "INFO:tensorflow:global_step/sec: 302.855\n",
      "INFO:tensorflow:loss = 0.42623204, step = 2200 (0.320 sec)\n",
      "INFO:tensorflow:global_step/sec: 285.92\n",
      "INFO:tensorflow:loss = 0.4257245, step = 2300 (0.358 sec)\n",
      "INFO:tensorflow:global_step/sec: 302.772\n",
      "INFO:tensorflow:loss = 0.42027417, step = 2400 (0.332 sec)\n",
      "INFO:tensorflow:global_step/sec: 303.07\n",
      "INFO:tensorflow:loss = 0.42840487, step = 2500 (0.330 sec)\n",
      "INFO:tensorflow:global_step/sec: 303.3\n",
      "INFO:tensorflow:loss = 0.4172737, step = 2600 (0.330 sec)\n",
      "INFO:tensorflow:global_step/sec: 293.73\n",
      "INFO:tensorflow:loss = 0.41200137, step = 2700 (0.330 sec)\n",
      "INFO:tensorflow:global_step/sec: 303.222\n",
      "INFO:tensorflow:loss = 0.40041748, step = 2800 (0.330 sec)\n",
      "INFO:tensorflow:global_step/sec: 312.342\n",
      "INFO:tensorflow:loss = 0.4037648, step = 2900 (0.330 sec)\n",
      "INFO:tensorflow:global_step/sec: 303.301\n",
      "INFO:tensorflow:loss = 0.39449203, step = 3000 (0.320 sec)\n",
      "INFO:tensorflow:global_step/sec: 303.093\n",
      "INFO:tensorflow:loss = 0.38424015, step = 3100 (0.340 sec)\n",
      "INFO:tensorflow:global_step/sec: 294.064\n",
      "INFO:tensorflow:loss = 0.39437246, step = 3200 (0.340 sec)\n",
      "INFO:tensorflow:global_step/sec: 293.956\n",
      "INFO:tensorflow:loss = 0.38664553, step = 3300 (0.340 sec)\n",
      "INFO:tensorflow:global_step/sec: 256.494\n",
      "INFO:tensorflow:loss = 0.3886551, step = 3400 (0.390 sec)\n",
      "INFO:tensorflow:global_step/sec: 285.73\n",
      "INFO:tensorflow:loss = 0.38240892, step = 3500 (0.340 sec)\n",
      "INFO:tensorflow:global_step/sec: 303.035\n",
      "INFO:tensorflow:loss = 0.37772745, step = 3600 (0.340 sec)\n",
      "INFO:tensorflow:global_step/sec: 294.092\n",
      "INFO:tensorflow:loss = 0.38338107, step = 3700 (0.330 sec)\n",
      "INFO:tensorflow:global_step/sec: 303.1\n",
      "INFO:tensorflow:loss = 0.36526945, step = 3800 (0.330 sec)\n",
      "INFO:tensorflow:global_step/sec: 302.956\n",
      "INFO:tensorflow:loss = 0.3574554, step = 3900 (0.340 sec)\n",
      "INFO:tensorflow:global_step/sec: 302.898\n",
      "INFO:tensorflow:loss = 0.357012, step = 4000 (0.330 sec)\n",
      "INFO:tensorflow:global_step/sec: 303.277\n",
      "INFO:tensorflow:loss = 0.35849854, step = 4100 (0.330 sec)\n",
      "INFO:tensorflow:global_step/sec: 294.055\n",
      "INFO:tensorflow:loss = 0.35851496, step = 4200 (0.340 sec)\n",
      "INFO:tensorflow:global_step/sec: 285.545\n",
      "INFO:tensorflow:loss = 0.3485834, step = 4300 (0.340 sec)\n",
      "INFO:tensorflow:global_step/sec: 303.079\n",
      "INFO:tensorflow:loss = 0.35238662, step = 4400 (0.330 sec)\n",
      "INFO:tensorflow:global_step/sec: 302.952\n",
      "INFO:tensorflow:loss = 0.3471525, step = 4500 (0.330 sec)\n",
      "INFO:tensorflow:global_step/sec: 294.232\n",
      "INFO:tensorflow:loss = 0.35338625, step = 4600 (0.340 sec)\n",
      "INFO:tensorflow:global_step/sec: 294.062\n",
      "INFO:tensorflow:loss = 0.34360045, step = 4700 (0.340 sec)\n",
      "INFO:tensorflow:global_step/sec: 301.126\n",
      "INFO:tensorflow:loss = 0.34207368, step = 4800 (0.340 sec)\n",
      "INFO:tensorflow:global_step/sec: 296.113\n",
      "INFO:tensorflow:loss = 0.3258527, step = 4900 (0.340 sec)\n",
      "INFO:tensorflow:Saving checkpoints for 5000 into C:\\Users\\jaime\\AppData\\Local\\Temp\\tmpqgv1z_9x\\model.ckpt.\n",
      "INFO:tensorflow:Loss for final step: 0.35212538.\n"
     ]
    },
    {
     "data": {
      "text/plain": [
       "<tensorflow_estimator.python.estimator.canned.dnn.DNNClassifierV2 at 0x268c9d92288>"
      ]
     },
     "execution_count": 45,
     "metadata": {},
     "output_type": "execute_result"
    }
   ],
   "source": [
    "classifier.train(\n",
    "    input_fn=lambda: input_fn(train, train_y, training=True),\n",
    "    steps=5000)"
   ]
  },
  {
   "cell_type": "code",
   "execution_count": 47,
   "metadata": {},
   "outputs": [
    {
     "name": "stdout",
     "output_type": "stream",
     "text": [
      "INFO:tensorflow:Calling model_fn.\n",
      "WARNING:tensorflow:Layer dnn is casting an input tensor from dtype float64 to the layer's dtype of float32, which is new behavior in TensorFlow 2.  The layer has dtype float32 because it's dtype defaults to floatx.\n",
      "\n",
      "If you intended to run this layer in float32, you can safely ignore this warning. If in doubt, this warning is likely only an issue if you are porting a TensorFlow 1.X model to TensorFlow 2.\n",
      "\n",
      "To change all layers to have dtype float64 by default, call `tf.keras.backend.set_floatx('float64')`. To change just this layer, pass dtype='float64' to the layer constructor. If you are the author of this layer, you can disable autocasting by passing autocast=False to the base Layer constructor.\n",
      "\n",
      "INFO:tensorflow:Done calling model_fn.\n",
      "INFO:tensorflow:Starting evaluation at 2020-10-19T15:26:37Z\n",
      "INFO:tensorflow:Graph was finalized.\n",
      "INFO:tensorflow:Restoring parameters from C:\\Users\\jaime\\AppData\\Local\\Temp\\tmpqgv1z_9x\\model.ckpt-5000\n",
      "INFO:tensorflow:Running local_init_op.\n",
      "INFO:tensorflow:Done running local_init_op.\n",
      "INFO:tensorflow:Inference Time : 0.35005s\n",
      "INFO:tensorflow:Finished evaluation at 2020-10-19-15:26:38\n",
      "INFO:tensorflow:Saving dict for global step 5000: accuracy = 0.93333334, average_loss = 0.39437133, global_step = 5000, loss = 0.39437133\n",
      "INFO:tensorflow:Saving 'checkpoint_path' summary for global step 5000: C:\\Users\\jaime\\AppData\\Local\\Temp\\tmpqgv1z_9x\\model.ckpt-5000\n",
      "\n",
      "Test set accuracy: 0.933\n"
     ]
    }
   ],
   "source": [
    "eval_result=classifier.evaluate(\n",
    "    input_fn=lambda: input_fn(test, test_y, training=False))\n",
    "print(\"\\nTest set accuracy: {accuracy:0.3f}\".format(**eval_result))"
   ]
  },
  {
   "cell_type": "code",
   "execution_count": 55,
   "metadata": {},
   "outputs": [
    {
     "name": "stdout",
     "output_type": "stream",
     "text": [
      "Please type numeric values as prompted.\n",
      "SepalLength: 3.2\n",
      "3.2\n",
      "SepalWidth: 1.6\n",
      "1.6\n",
      "PetalLength: 6.8\n",
      "6.8\n",
      "PetalWidth: 3.9\n",
      "3.9\n",
      "INFO:tensorflow:Calling model_fn.\n",
      "INFO:tensorflow:Done calling model_fn.\n",
      "INFO:tensorflow:Graph was finalized.\n",
      "INFO:tensorflow:Restoring parameters from C:\\Users\\jaime\\AppData\\Local\\Temp\\tmpqgv1z_9x\\model.ckpt-5000\n",
      "INFO:tensorflow:Running local_init_op.\n",
      "INFO:tensorflow:Done running local_init_op.\n",
      "Prediction is 'Virginica' (97.1%)\n"
     ]
    }
   ],
   "source": [
    "def input_fn(features, batch_size=256):\n",
    "    # Convert the inputs to a Dataset without labels\n",
    "    return tf.data.Dataset.from_tensor_slices(dict(features)).batch(batch_size)\n",
    "\n",
    "features = [\"SepalLength\", \"SepalWidth\", \"PetalLength\", \"PetalWidth\"]\n",
    "predict = {}\n",
    "\n",
    "print(\"Please type numeric values as prompted.\")\n",
    "for feature in features:\n",
    "    valid = True\n",
    "    while valid:\n",
    "        val = input(feature + \": \")\n",
    "        print(val)\n",
    "        if not val.isdigit():\n",
    "            valid=False\n",
    "    \n",
    "    predict[feature] = [float(val)]\n",
    "\n",
    "predictions = classifier.predict(input_fn=lambda: input_fn(predict))\n",
    "for pred_dict in predictions:\n",
    "    class_id = pred_dict[\"class_ids\"][0]\n",
    "    probability = pred_dict[\"probabilities\"][class_id]\n",
    "    \n",
    "    print(\"Prediction is '{}' ({:.1f}%)\".format(\n",
    "        SPECIES[class_id], 100*probability))"
   ]
  },
  {
   "cell_type": "markdown",
   "metadata": {},
   "source": [
    "### Clustering\n",
    "Se usa cuando tienes información (input) pero no tienes labels o información de output (unsupervised)"
   ]
  },
  {
   "cell_type": "markdown",
   "metadata": {},
   "source": [
    "### Hidden Markov Model"
   ]
  },
  {
   "cell_type": "code",
   "execution_count": 59,
   "metadata": {},
   "outputs": [],
   "source": [
    "import tensorflow_probability as tfp\n",
    "import tensorflow as tf"
   ]
  },
  {
   "cell_type": "markdown",
   "metadata": {},
   "source": [
    "#### Weather Model"
   ]
  },
  {
   "cell_type": "code",
   "execution_count": 77,
   "metadata": {},
   "outputs": [],
   "source": [
    "tfd = tfp.distributions\n",
    "# Probabilidad 80 para día frio (0) y probabilidad 20 para dia calido (1)\n",
    "initial_dist = tfd.Categorical(probs=[0.2,0.8])\n",
    "# Transición a segundo día, si el primero es frio hay 70 de que el segundo\n",
    "# tambien y 30 de que cambie. Si el primero es calido hay 80 de que se\n",
    "# mantenga y 20 de que cambie.\n",
    "transition_dist = tfd.Categorical(probs=[[0.7,0.3],\n",
    "                                         [0.2,0.8]])\n",
    "observation_dist = tfd.Normal(loc=[0., 15.], scale=[5., 10.])\n",
    "# loc es la media y scale la desviacion tipica"
   ]
  },
  {
   "cell_type": "code",
   "execution_count": 78,
   "metadata": {},
   "outputs": [],
   "source": [
    "model = tfd.HiddenMarkovModel(\n",
    "    initial_distribution=initial_dist,\n",
    "    transition_distribution=transition_dist,\n",
    "    observation_distribution=observation_dist,\n",
    "    num_steps=7)\n",
    "# steps es por cuantos ciclos queremos correr el modelo (7 dias)"
   ]
  },
  {
   "cell_type": "code",
   "execution_count": 79,
   "metadata": {},
   "outputs": [
    {
     "name": "stdout",
     "output_type": "stream",
     "text": [
      "[12.       10.5       9.75      9.375     9.1875    9.09375   9.046875]\n"
     ]
    }
   ],
   "source": [
    "mean = model.mean()\n",
    "\n",
    "# tenemos que crear una sesion para verlo bien\n",
    "with tf.compat.v1.Session() as sess:\n",
    "    print(mean.numpy())\n",
    "# temperaturas predichas empezando en dia frio"
   ]
  },
  {
   "cell_type": "code",
   "execution_count": null,
   "metadata": {},
   "outputs": [],
   "source": [
    "tf.estimator."
   ]
  }
 ],
 "metadata": {
  "kernelspec": {
   "display_name": "Python 3.7 (tensorflow)",
   "language": "python",
   "name": "tensorflow"
  },
  "language_info": {
   "codemirror_mode": {
    "name": "ipython",
    "version": 3
   },
   "file_extension": ".py",
   "mimetype": "text/x-python",
   "name": "python",
   "nbconvert_exporter": "python",
   "pygments_lexer": "ipython3",
   "version": "3.7.8"
  }
 },
 "nbformat": 4,
 "nbformat_minor": 4
}
